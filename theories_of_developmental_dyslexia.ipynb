{
 "cells": [
  {
   "cell_type": "markdown",
   "metadata": {},
   "source": [
    "# Theories of developmental dyslexia: insights from a multiple case study of dyslexic people"
   ]
  },
  {
   "cell_type": "markdown",
   "metadata": {},
   "source": [
    "#### Franck Ramus, Stuart Rosen, Steven C. Dakin, Brian L. Day, Juan M. Castellote, Sarah White, and Uta Frith"
   ]
  },
  {
   "cell_type": "markdown",
   "metadata": {},
   "source": [
    "## Summary\n",
    "\n",
    "This paper is trying to evaluate the validity of the three major theories of developmental dyslexia (phonological, magnocellular and cerebellar) by conducting a range of tests that will numerically evaluate the participants' response in the appropriate fields. The research concludes that the best supported theory is the phonological one, while the other two are disproven. It is also acknowledged that the deficits from the magnocellular and cerebellar theory can be a contributing factor to dyslexia at best. This paper sheds a light on the correlation between the phonological, auditory, visual and cerebellar disorders and dyslexia."
   ]
  },
  {
   "cell_type": "markdown",
   "metadata": {},
   "source": []
  },
  {
   "cell_type": "code",
   "execution_count": null,
   "metadata": {},
   "outputs": [],
   "source": []
  }
 ],
 "metadata": {
  "kernelspec": {
   "display_name": "Python 3",
   "language": "python",
   "name": "python3"
  },
  "language_info": {
   "codemirror_mode": {
    "name": "ipython",
    "version": 3
   },
   "file_extension": ".py",
   "mimetype": "text/x-python",
   "name": "python",
   "nbconvert_exporter": "python",
   "pygments_lexer": "ipython3",
   "version": "3.6.12"
  }
 },
 "nbformat": 4,
 "nbformat_minor": 4
}
